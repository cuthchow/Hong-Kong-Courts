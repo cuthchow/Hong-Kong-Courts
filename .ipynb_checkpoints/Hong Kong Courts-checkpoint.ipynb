{
 "cells": [
  {
   "cell_type": "code",
   "execution_count": 12,
   "metadata": {},
   "outputs": [],
   "source": [
    "import requests\n",
    "from bs4 import BeautifulSoup\n",
    "import pandas as pd\n",
    "import matplotlib.pyplot as plt\n",
    "import numpy as np\n",
    "import seaborn as sns\n",
    "import math \n",
    "import re"
   ]
  },
  {
   "cell_type": "markdown",
   "metadata": {},
   "source": [
    "Fixes:\n",
    "    \n",
    "- Not just January of every year. \n",
    "- Judge name is sometimes mistaken for title\n",
    "- Judgment --> take last 2 or 3 paragraphs for completeness. \n",
    "- Number of lawyers in case? Number of SCs\n",
    "- Name conversion or mapping --> search bar list with names in case list\n",
    "    "
   ]
  },
  {
   "cell_type": "markdown",
   "metadata": {},
   "source": [
    "# Getting Case Links"
   ]
  },
  {
   "cell_type": "code",
   "execution_count": 13,
   "metadata": {},
   "outputs": [],
   "source": [
    "case_links = []\n",
    "\n",
    "for year in range(2017,2019):\n",
    "\n",
    "    headers = {'User-Agent': 'Mozilla/5.0 (Macintosh; Intel Mac OS X 10_11_5) AppleWebKit/537.36 (KHTML, like Gecko) Chrome/50.0.2661.102 Safari/537.36'}\n",
    "    r = requests.get(f'http://www.hklii.org/eng/hk/cases/hkcfi/{year}/', headers = headers).text\n",
    "    soup = BeautifulSoup(r, 'html.parser')\n",
    "\n",
    "    #Going to skip months and cases for now to minimise requests!\n",
    "    #1, 13, 2 is starting from january to december, skipping months\n",
    "    for month in range(1, 13, 1):\n",
    "        total = len(soup.findAll('ul')[month].findAll('a'))\n",
    "        for each in range(0, total, 1):\n",
    "            link = soup.findAll('ul')[month].findAll('a')[each]['href']\n",
    "            link = link[2:]\n",
    "            case_links.append(link)\n"
   ]
  },
  {
   "cell_type": "code",
   "execution_count": 14,
   "metadata": {},
   "outputs": [
    {
     "name": "stdout",
     "output_type": "stream",
     "text": [
      "3985\n"
     ]
    }
   ],
   "source": [
    "tot = len(case_links)\n",
    "print(tot)"
   ]
  },
  {
   "cell_type": "markdown",
   "metadata": {},
   "source": [
    "# Creating Case Summaries"
   ]
  },
  {
   "cell_type": "code",
   "execution_count": null,
   "metadata": {},
   "outputs": [],
   "source": [
    "case_summaries = []\n",
    "failed_links = []\n",
    "\n",
    "for link in case_links: \n",
    "    try:\n",
    "        newlink = 'http://www.hklii.org/eng/hk/cases/hkcfi' + link\n",
    "        headers = {'User-Agent': 'Mozilla/5.0 (Macintosh; Intel Mac OS X 10_11_5) AppleWebKit/537.36 (KHTML, like Gecko) Chrome/50.0.2661.102 Safari/537.36'}\n",
    "        r = requests.get(newlink, headers = headers).text\n",
    "        soup = BeautifulSoup(r, 'html.parser')\n",
    "\n",
    "        plaintiff_rep = soup.find_all('representation')[0].find_all('p')[1].text\n",
    "        defendant_rep = soup.find_all('representation')[0].find_all('p')[2].text\n",
    "        paras = len(soup.find_all(class_ = 'para'))\n",
    "        if paras > 2:\n",
    "            decision = soup.find_all(class_ = 'para')[-3].parent.text + ' ' + soup.find_all(class_ = 'para')[-2].parent.text + ' ' + soup.find_all(class_ = 'para')[-1].parent.text\n",
    "        elif paras == 2:\n",
    "            decision = soup.find_all(class_ = 'para')[-2].parent.text + ' ' + soup.find_all(class_ = 'para')[-1].parent.text\n",
    "        elif pars == 1:\n",
    "            decision = soup.find_all(class_ = 'para')[-1].parent.text\n",
    "        judge = soup.findAll('tr')[-3].text.strip() + soup.findAll('tr')[-2].text.strip()\n",
    "        judge_title = soup.findAll('tr')[-1].text.strip()\n",
    "        case = soup.find('title').text\n",
    "\n",
    "        case_dict = {'p_rep': plaintiff_rep,\n",
    "                     'd_rep': defendant_rep,\n",
    "                     'decision': decision,\n",
    "                     'judge': judge,\n",
    "                     'judge_title': judge_title,\n",
    "                     'link': link,\n",
    "                     'case_name': case}\n",
    "\n",
    "        print('just did: ' + case)\n",
    "        case_summaries.append(case_dict)\n",
    "\n",
    "    except:\n",
    "        failed_links.append(link)\n",
    "        print('FAIL')\n",
    "    \n",
    "    tot -= 1\n",
    "    print(str(tot) + ' remaining')"
   ]
  },
  {
   "cell_type": "code",
   "execution_count": 223,
   "metadata": {},
   "outputs": [
    {
     "name": "stdout",
     "output_type": "stream",
     "text": [
      "Optimization terminated successfully.\n",
      "         Current function value: 0.650220\n",
      "         Iterations 4\n"
     ]
    },
    {
     "name": "stderr",
     "output_type": "stream",
     "text": [
      "/anaconda3/lib/python3.6/site-packages/ipykernel_launcher.py:2: SettingWithCopyWarning: \n",
      "A value is trying to be set on a copy of a slice from a DataFrame.\n",
      "Try using .loc[row_indexer,col_indexer] = value instead\n",
      "\n",
      "See the caveats in the documentation: http://pandas.pydata.org/pandas-docs/stable/indexing.html#indexing-view-versus-copy\n",
      "  \n"
     ]
    }
   ],
   "source": []
  },
  {
   "cell_type": "code",
   "execution_count": 262,
   "metadata": {},
   "outputs": [
    {
     "data": {
      "text/plain": [
       "<seaborn.axisgrid.FacetGrid at 0x1a0dd43048>"
      ]
     },
     "execution_count": 262,
     "metadata": {},
     "output_type": "execute_result"
    },
    {
     "data": {
      "image/png": "[encoded data removed]",
      "text/plain": [
       "<Figure size 360x360 with 1 Axes>"
      ]
     },
     "metadata": {},
     "output_type": "display_data"
    }
   ],
   "source": [
    "ee = cases_p.groupby('exp').mean()\n",
    "ee.reset_index(inplace = True)\n",
    "sns.lmplot(data = ee, x = 'exp', y = 'win')"
   ]
  },
  {
   "cell_type": "code",
   "execution_count": 264,
   "metadata": {},
   "outputs": [
    {
     "data": {
      "text/plain": [
       "<seaborn.axisgrid.FacetGrid at 0x1a0d851e48>"
      ]
     },
     "execution_count": 264,
     "metadata": {},
     "output_type": "execute_result"
    },
    {
     "data": {
      "image/png": "[encoded data removed]",
      "text/plain": [
       "<Figure size 360x360 with 1 Axes>"
      ]
     },
     "metadata": {},
     "output_type": "display_data"
    }
   ],
   "source": [
    "gg = cases_d.groupby('exp').mean()\n",
    "gg.reset_index(inplace = True)\n",
    "sns.lmplot(data = gg, x = 'exp', y = 'win')"
   ]
  },
  {
   "cell_type": "code",
   "execution_count": 282,
   "metadata": {},
   "outputs": [],
   "source": [
    "ggg = cases_p.groupby('exp_class').mean()\n",
    "ggg.reset_index(inplace = True)\n"
   ]
  },
  {
   "cell_type": "code",
   "execution_count": 285,
   "metadata": {},
   "outputs": [
    {
     "data": {
      "text/plain": [
       "<matplotlib.axes._subplots.AxesSubplot at 0x1a19edb438>"
      ]
     },
     "execution_count": 285,
     "metadata": {},
     "output_type": "execute_result"
    },
    {
     "data": {
      "image/png": "[encoded data removed]",
      "text/plain": [
       "<Figure size 432x288 with 1 Axes>"
      ]
     },
     "metadata": {},
     "output_type": "display_data"
    }
   ],
   "source": [
    "plt.title('defendant')\n",
    "sns.barplot(data = eee, x = 'exp_class', y = 'win', color= 'blue')"
   ]
  },
  {
   "cell_type": "code",
   "execution_count": 284,
   "metadata": {},
   "outputs": [
    {
     "data": {
      "text/plain": [
       "<matplotlib.axes._subplots.AxesSubplot at 0x1a19eb7e48>"
      ]
     },
     "execution_count": 284,
     "metadata": {},
     "output_type": "execute_result"
    },
    {
     "data": {
      "image/png": "[encoded data removed]",
      "text/plain": [
       "<Figure size 432x288 with 1 Axes>"
      ]
     },
     "metadata": {},
     "output_type": "display_data"
    }
   ],
   "source": [
    "plt.title('plaintiff')\n",
    "sns.barplot(data = ggg, x = 'exp_class', y = 'win', color= 'blue')"
   ]
  },
  {
   "cell_type": "code",
   "execution_count": 246,
   "metadata": {},
   "outputs": [
    {
     "data": {
      "text/html": [
       "<div>\n",
       "<style scoped>\n",
       "    .dataframe tbody tr th:only-of-type {\n",
       "        vertical-align: middle;\n",
       "    }\n",
       "\n",
       "    .dataframe tbody tr th {\n",
       "        vertical-align: top;\n",
       "    }\n",
       "\n",
       "    .dataframe thead th {\n",
       "        text-align: right;\n",
       "    }\n",
       "</style>\n",
       "<table border=\"1\" class=\"dataframe\">\n",
       "  <thead>\n",
       "    <tr style=\"text-align: right;\">\n",
       "      <th></th>\n",
       "      <th>d_call</th>\n",
       "      <th>exp</th>\n",
       "      <th>intercept</th>\n",
       "    </tr>\n",
       "    <tr>\n",
       "      <th>win</th>\n",
       "      <th></th>\n",
       "      <th></th>\n",
       "      <th></th>\n",
       "    </tr>\n",
       "  </thead>\n",
       "  <tbody>\n",
       "    <tr>\n",
       "      <th>0</th>\n",
       "      <td>2001.298165</td>\n",
       "      <td>16.701835</td>\n",
       "      <td>1.0</td>\n",
       "    </tr>\n",
       "    <tr>\n",
       "      <th>1</th>\n",
       "      <td>2004.323144</td>\n",
       "      <td>13.676856</td>\n",
       "      <td>1.0</td>\n",
       "    </tr>\n",
       "  </tbody>\n",
       "</table>\n",
       "</div>"
      ],
      "text/plain": [
       "          d_call        exp  intercept\n",
       "win                                   \n",
       "0    2001.298165  16.701835        1.0\n",
       "1    2004.323144  13.676856        1.0"
      ]
     },
     "execution_count": 246,
     "metadata": {},
     "output_type": "execute_result"
    }
   ],
   "source": [
    "cases_d.groupby('win').mean()"
   ]
  },
  {
   "cell_type": "code",
   "execution_count": 252,
   "metadata": {},
   "outputs": [
    {
     "data": {
      "text/plain": [
       "<matplotlib.collections.PathCollection at 0x1a0ca6f7b8>"
      ]
     },
     "execution_count": 252,
     "metadata": {},
     "output_type": "execute_result"
    },
    {
     "data": {
      "image/png": "[encoded data removed]",
      "text/plain": [
       "<Figure size 432x288 with 1 Axes>"
      ]
     },
     "metadata": {},
     "output_type": "display_data"
    }
   ],
   "source": [
    "plt.scatter(data= cases_d, x = 'exp', y = 'win')\n"
   ]
  },
  {
   "cell_type": "code",
   "execution_count": null,
   "metadata": {},
   "outputs": [],
   "source": []
  },
  {
   "cell_type": "code",
   "execution_count": 171,
   "metadata": {},
   "outputs": [],
   "source": [
    "#cases.to_csv('cases_1718.csv', index = False)\n",
    "#cases = pd.read_csv('cases_2017_2018.csv')\n",
    "#bars = pd.read_csv('barristers.csv')"
   ]
  },
  {
   "cell_type": "code",
   "execution_count": 200,
   "metadata": {},
   "outputs": [],
   "source": [
    "cases_d.to_csv('defendant_1718.csv', index = False)"
   ]
  },
  {
   "cell_type": "code",
   "execution_count": null,
   "metadata": {},
   "outputs": [],
   "source": []
  },
  {
   "cell_type": "markdown",
   "metadata": {},
   "source": [
    "# ALL THE STUFF TO CLEAN:\n",
    "\n",
    "## Representatives:\n",
    "- _Remove the \\n_\n",
    "- _Find the lead counsel (Ms. or Mr.)_\n",
    "- Number of counsel?\n",
    "- _Find the 'instructed by'_ \n",
    "- _Find all the in person_\n",
    "\n",
    "**Here's how I'm doing it right now:**\n",
    "- only use cases that confirm to a particular format. \n",
    "- Two rows of representation, one for P one for D\n",
    "- Will only take the name of the LEAD counsel for each case and ignore others\n",
    "\n",
    "\n",
    "## Decisions:\n",
    "_- Need to get more of the decision_\n",
    "    - sometimes sub-paragraphs are not extracted by the scraper\n",
    "    - Sometimes, decision is higher up in the judgment\n",
    "    \n",
    "## To Do:\n",
    "- Split the representation into p_bar, d_bar, p_firm, d_firm, account for multiple lawyers. \n",
    "- Improve the find_winner function --> aim for 75% confidence\n",
    "- Improve the `find_call()` function, so it gets call AND inner call, and recalculates in reference to date of decision\n",
    "    \n",
    "## Analysis:\n",
    "- Break table into P and D tables\n",
    "- logistic regression, predict success on experience. \n",
    "- predict success on discrepancy \n",
    "- Bar chart --> group by exp class, hue by success/failure count\n",
    "- Violin --> success on x, exp on y \n",
    "\n",
    "    \n",
    "    "
   ]
  },
  {
   "cell_type": "code",
   "execution_count": null,
   "metadata": {},
   "outputs": [],
   "source": [
    "#Find p_rep and d_rep from Representation\n",
    "def find_rep(x):\n",
    "    x = x.lower()\n",
    "    try:\n",
    "        first = re.findall('((mr|ms)?\\.? .{0,39}),( (instructed|assigned) by (.{0,40}))?,? for the .{0,25}?(respondent|plaintiff|defendant|appellant|petitioner|applicant|HKSAR)?', x)[0]\n",
    "        return first[0]\n",
    "    except:\n",
    "        if 'in person' in x:\n",
    "            return 'in person'\n",
    "        else:\n",
    "            return np.nan\n",
    "\n",
    "cases['p_rep'] = cases['representation'].apply(find_rep)\n",
    "    \n",
    "#Find Name of barrister:\n",
    "\n",
    "def find_bar(x):\n",
    "    x = x.lower()\n",
    "    try:\n",
    "        return re.findall('(mr|ms)\\.? (.{0,20}),', x)[0][1]\n",
    "    except: \n",
    "        if 'in person' in x:\n",
    "            return 'in person'\n",
    "        else:\n",
    "            return np.nan\n",
    "    \n",
    "cases['p_bar'] = cases['p_rep'].apply(find_bar)\n",
    "cases['d_bar'] = cases['d_rep'].apply(find_bar)\n",
    "\n",
    "#Find Name of firm\n",
    "\n",
    "def find_firm(x):\n",
    "    try:\n",
    "        x = x.replace('\\n', ' ')\n",
    "        return re.findall('instructed by (.{0,25}),', x)[0]\n",
    "    except:\n",
    "        return ''\n",
    "    \n",
    "cases['d_firm'] = cases['d_rep'].apply(find_firm)\n",
    "cases['p_firm'] = cases['p_rep'].apply(find_firm)"
   ]
  },
  {
   "cell_type": "code",
   "execution_count": null,
   "metadata": {},
   "outputs": [],
   "source": [
    "def judge_name(x):\n",
    "    try:\n",
    "        return re.findall('\\((.+)\\)', x)[0]\n",
    "    except:\n",
    "        return np.nan\n",
    "\n",
    "cases2['judge_name'] = cases2['judge'] + cases2['judge_title']\n",
    "cases2['judge_name'] = cases2['judge_name'].apply(judge_name)"
   ]
  },
  {
   "cell_type": "markdown",
   "metadata": {},
   "source": [
    "Possible case decisions:\n",
    "\n",
    "cases\n",
    "'In favour of:'\n",
    "'dismissed'\n",
    "'allowed'\n",
    "'do not accept'\n",
    "\n"
   ]
  },
  {
   "cell_type": "code",
   "execution_count": null,
   "metadata": {},
   "outputs": [],
   "source": [
    "def find_winner(x):\n",
    "    x = x.lower()\n",
    "    if 'allowed' in x or 'allow' in x:\n",
    "        return 'plaintiff'\n",
    "    elif 'dismissed' in x or 'dismiss' in x:\n",
    "        return 'defendant'\n",
    "    elif 'do not accept' in x:\n",
    "        return 'defendant'\n",
    "    elif re.findall('favour of .+(Plaintiff|Defendant|defendant|plaintiff)', x):\n",
    "        return re.findall('favour of .+(Plaintiff|Defendant|defendant|plaintiff)', x)[0].lower()\n",
    "    elif re.findall('do not accept .+ (plaintiff|defendant)', x):\n",
    "        if re.findall('do not accept .+ (plaintiff|defendant)', x)[0] == 'defendant':\n",
    "            return 'plaintiff'\n",
    "        elif re.findall('do not accept .+ (plaintiff|defendant)', x)[0] == 'plaintiff':\n",
    "            return 'defendant'\n",
    "    elif x.count('plaintiff') > x.count('defendant'):\n",
    "        return 'plaintiff'\n",
    "    elif x.count('defendant') > x.count('plaintiff'):\n",
    "        return 'defendant'\n",
    "    else:\n",
    "        return 'unknown'"
   ]
  },
  {
   "cell_type": "code",
   "execution_count": null,
   "metadata": {},
   "outputs": [],
   "source": [
    "def find_call(x):\n",
    "    for each in bars['name']:\n",
    "        if len(x.split(' ')) > 1:\n",
    "            if x.split(' ')[0] in each:\n",
    "                if x.split(' ')[1] in each:\n",
    "                    i = bars.index[bars['name'] == each].tolist()[0]\n",
    "                    return str(bars.iloc[i]['call'])\n",
    "    return np.nan\n",
    "\n",
    "cases2['p_call'] = cases2['p_bar'].apply(find_call)\n",
    "cases2['d_call'] = cases2['d_bar'].apply(find_call)\n",
    "\n",
    "#NEW VERSION\n",
    "def find_call(x):\n",
    "    for each in bars['name']:\n",
    "        if len(x.split(' ')) > 1:\n",
    "            if x.split(' ')[0].capitalize() in each:\n",
    "                if x.split(' ')[1].capitalize() in each:\n",
    "                    i = bars.index[bars['name'] == each].tolist()[0]\n",
    "                    return str(bars.loc[i,'call'])\n",
    "    return np.nan\n",
    "\n",
    "cases_p['p_call'] = cases_p['p_bar'].apply(find_call)\n",
    "\n",
    "#Find Inner Call\n",
    "def find_sc(x):\n",
    "    if ' sc' in x:\n",
    "        for each in bars['name']:\n",
    "            if len(x.split(' ')) > 1:\n",
    "                if x.split(' ')[0].capitalize() in each:\n",
    "                    if x.split(' ')[1].capitalize() in each:\n",
    "                        i = bars.index[bars['name'] == each].tolist()[0]\n",
    "                        return str(bars.loc[i,'innercall'])\n",
    "    else:\n",
    "        return np.nan\n",
    "\n",
    "cases_p['p_inner'] = cases_p['p_bar'].apply(find_sc)"
   ]
  },
  {
   "cell_type": "markdown",
   "metadata": {},
   "source": [
    "plaintiff sc --> 11/36  30.5%\n",
    "plaintiff not sc -->    37.3%\n",
    "Generally --> 35.8%\n",
    "\n",
    "defendant sc -->        72.0%\n",
    "defendant not sc -->    62.0%\n",
    "Generally --> 64.2%"
   ]
  },
  {
   "cell_type": "code",
   "execution_count": 402,
   "metadata": {},
   "outputs": [
    {
     "data": {
      "text/html": [
       "<div>\n",
       "<style scoped>\n",
       "    .dataframe tbody tr th:only-of-type {\n",
       "        vertical-align: middle;\n",
       "    }\n",
       "\n",
       "    .dataframe tbody tr th {\n",
       "        vertical-align: top;\n",
       "    }\n",
       "\n",
       "    .dataframe thead th {\n",
       "        text-align: right;\n",
       "    }\n",
       "</style>\n",
       "<table border=\"1\" class=\"dataframe\">\n",
       "  <thead>\n",
       "    <tr style=\"text-align: right;\">\n",
       "      <th></th>\n",
       "      <th>case_name</th>\n",
       "      <th>d_rep</th>\n",
       "      <th>decision</th>\n",
       "      <th>judge</th>\n",
       "      <th>judge_title</th>\n",
       "      <th>link</th>\n",
       "      <th>p_rep</th>\n",
       "      <th>p_bar</th>\n",
       "      <th>d_bar</th>\n",
       "      <th>d_firm</th>\n",
       "      <th>p_firm</th>\n",
       "      <th>p_call</th>\n",
       "      <th>d_call</th>\n",
       "      <th>p_sc</th>\n",
       "      <th>d_sc</th>\n",
       "    </tr>\n",
       "    <tr>\n",
       "      <th>winner</th>\n",
       "      <th></th>\n",
       "      <th></th>\n",
       "      <th></th>\n",
       "      <th></th>\n",
       "      <th></th>\n",
       "      <th></th>\n",
       "      <th></th>\n",
       "      <th></th>\n",
       "      <th></th>\n",
       "      <th></th>\n",
       "      <th></th>\n",
       "      <th></th>\n",
       "      <th></th>\n",
       "      <th></th>\n",
       "      <th></th>\n",
       "    </tr>\n",
       "  </thead>\n",
       "  <tbody>\n",
       "    <tr>\n",
       "      <th>defendant</th>\n",
       "      <td>104</td>\n",
       "      <td>104</td>\n",
       "      <td>104</td>\n",
       "      <td>104</td>\n",
       "      <td>104</td>\n",
       "      <td>104</td>\n",
       "      <td>104</td>\n",
       "      <td>104</td>\n",
       "      <td>104</td>\n",
       "      <td>104</td>\n",
       "      <td>104</td>\n",
       "      <td>104</td>\n",
       "      <td>104</td>\n",
       "      <td>104</td>\n",
       "      <td>104</td>\n",
       "    </tr>\n",
       "    <tr>\n",
       "      <th>plaintiff</th>\n",
       "      <td>58</td>\n",
       "      <td>58</td>\n",
       "      <td>58</td>\n",
       "      <td>58</td>\n",
       "      <td>58</td>\n",
       "      <td>58</td>\n",
       "      <td>58</td>\n",
       "      <td>58</td>\n",
       "      <td>58</td>\n",
       "      <td>58</td>\n",
       "      <td>58</td>\n",
       "      <td>58</td>\n",
       "      <td>58</td>\n",
       "      <td>58</td>\n",
       "      <td>58</td>\n",
       "    </tr>\n",
       "    <tr>\n",
       "      <th>unknown</th>\n",
       "      <td>107</td>\n",
       "      <td>107</td>\n",
       "      <td>107</td>\n",
       "      <td>107</td>\n",
       "      <td>107</td>\n",
       "      <td>107</td>\n",
       "      <td>107</td>\n",
       "      <td>107</td>\n",
       "      <td>107</td>\n",
       "      <td>107</td>\n",
       "      <td>107</td>\n",
       "      <td>107</td>\n",
       "      <td>107</td>\n",
       "      <td>107</td>\n",
       "      <td>107</td>\n",
       "    </tr>\n",
       "  </tbody>\n",
       "</table>\n",
       "</div>"
      ],
      "text/plain": [
       "           case_name  d_rep  decision  judge  judge_title  link  p_rep  p_bar  \\\n",
       "winner                                                                          \n",
       "defendant        104    104       104    104          104   104    104    104   \n",
       "plaintiff         58     58        58     58           58    58     58     58   \n",
       "unknown          107    107       107    107          107   107    107    107   \n",
       "\n",
       "           d_bar  d_firm  p_firm  p_call  d_call  p_sc  d_sc  \n",
       "winner                                                        \n",
       "defendant    104     104     104     104     104   104   104  \n",
       "plaintiff     58      58      58      58      58    58    58  \n",
       "unknown      107     107     107     107     107   107   107  "
      ]
     },
     "execution_count": 402,
     "metadata": {},
     "output_type": "execute_result"
    }
   ],
   "source": [
    "cleancases.groupby('winner').count()"
   ]
  },
  {
   "cell_type": "code",
   "execution_count": 51,
   "metadata": {},
   "outputs": [
    {
     "data": {
      "text/plain": [
       "[]"
      ]
     },
     "execution_count": 51,
     "metadata": {},
     "output_type": "execute_result"
    }
   ],
   "source": [
    "#STEPS:\n",
    "\n",
    "cases_d = cases[['d_bar', 'winner']] \n",
    "\n",
    "def dummy(x):\n",
    "    if x == 'defendant':\n",
    "        return 1\n",
    "    elif x == 'plaintiff':\n",
    "        return 0\n",
    "    else:\n",
    "        return np.nan\n",
    "\n",
    "cases_d['win'] = cases_d['winner'].apply(dummy)\n",
    "cases_d.dropna(inplace = True, axis = 0)\n",
    "cases_d['win'] = cases_d['win'].astype(int)\n",
    "\n",
    "def find_call(x):\n",
    "    for each in bars['name']:\n",
    "        if len(x.split(' ')) > 1:\n",
    "            if x.split(' ')[0].capitalize() in each:\n",
    "                if x.split(' ')[1].capitalize() in each:\n",
    "                    i = bars.index[bars['name'] == each].tolist()[0]\n",
    "                    return str(bars.loc[i,'call'])\n",
    "    if 'in person' in x:\n",
    "        return '2018'\n",
    "    return np.nan\n",
    "\n",
    "cases_d['d_call'] = cases_d['d_bar'].apply(find_call)\n",
    "\n",
    "#Find Inner Call\n",
    "def find_sc(x):\n",
    "    if ' sc' in x:\n",
    "        for each in bars['name']:\n",
    "            if len(x.split(' ')) > 1:\n",
    "                if x.split(' ')[0].capitalize() in each:\n",
    "                    if x.split(' ')[1].capitalize() in each:\n",
    "                        i = bars.index[bars['name'] == each].tolist()[0]\n",
    "                        return str(bars.loc[i,'innercall'])\n",
    "    else:\n",
    "        return np.nan\n",
    "\n",
    "cases_d['d_inner'] = cases_d['d_bar'].apply(find_sc)\n",
    "\n"
   ]
  },
  {
   "cell_type": "code",
   "execution_count": null,
   "metadata": {},
   "outputs": [],
   "source": []
  }
 ],
 "metadata": {
  "kernelspec": {
   "display_name": "Python 3",
   "language": "python",
   "name": "python3"
  },
  "language_info": {
   "codemirror_mode": {
    "name": "ipython",
    "version": 3
   },
   "file_extension": ".py",
   "mimetype": "text/x-python",
   "name": "python",
   "nbconvert_exporter": "python",
   "pygments_lexer": "ipython3",
   "version": "3.6.5"
  }
 },
 "nbformat": 4,
 "nbformat_minor": 2
}
